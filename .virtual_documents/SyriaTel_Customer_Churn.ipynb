











import pandas as pd
import numpy as np
import seaborn as sns
from sklearn.preprocessing import StandardScaler
from sklearn.linear_model import LogisticRegression
from sklearn.tree import DecisionTreeClassifier
from sklearn.model_selection import train_test_split, GridSearchCV
from sklearn.metrics import classification_report, roc_auc_score
from imblearn.over_sampling import SMOTE


df = pd.read_csv("bigml_59c28831336c6604c800002a.csv")
df.info()





df= df.drop(["phone number", "state", "area code"], axis=1)
df






